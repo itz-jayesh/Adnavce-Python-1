{
  "nbformat": 4,
  "nbformat_minor": 0,
  "metadata": {
    "colab": {
      "provenance": [],
      "authorship_tag": "ABX9TyNfw74V1gg/KJJJUFTjbuSh",
      "include_colab_link": true
    },
    "kernelspec": {
      "name": "python3",
      "display_name": "Python 3"
    },
    "language_info": {
      "name": "python"
    }
  },
  "cells": [
    {
      "cell_type": "markdown",
      "metadata": {
        "id": "view-in-github",
        "colab_type": "text"
      },
      "source": [
        "<a href=\"https://colab.research.google.com/github/itz-jayesh/Adnavce-Python-1/blob/main/functions.ipynb\" target=\"_parent\"><img src=\"https://colab.research.google.com/assets/colab-badge.svg\" alt=\"Open In Colab\"/></a>"
      ]
    },
    {
      "cell_type": "code",
      "execution_count": null,
      "metadata": {
        "id": "UR3cxZ47Y30N"
      },
      "outputs": [],
      "source": []
    },
    {
      "cell_type": "code",
      "source": [
        "def add(x,y):\n",
        "  c=x+y\n",
        "  return c"
      ],
      "metadata": {
        "id": "MLO0hlqoY7d9"
      },
      "execution_count": null,
      "outputs": []
    },
    {
      "cell_type": "code",
      "source": [
        "add1 =add(10,19)\n",
        "add1"
      ],
      "metadata": {
        "colab": {
          "base_uri": "https://localhost:8080/"
        },
        "id": "yB2zyLySZuID",
        "outputId": "c93c0c52-c2a7-499a-c387-e734e49c6efd"
      },
      "execution_count": 34,
      "outputs": [
        {
          "output_type": "execute_result",
          "data": {
            "text/plain": [
              "29"
            ]
          },
          "metadata": {},
          "execution_count": 34
        }
      ]
    },
    {
      "cell_type": "code",
      "source": [
        "## Varidic function(able to add more than given variables)"
      ],
      "metadata": {
        "id": "_Uct2IrhZ0FO"
      },
      "execution_count": null,
      "outputs": []
    },
    {
      "cell_type": "markdown",
      "source": [
        "Varidic function"
      ],
      "metadata": {
        "id": "icCdObjUoo1h"
      }
    },
    {
      "cell_type": "code",
      "source": [
        "add(10,10,20)"
      ],
      "metadata": {
        "colab": {
          "base_uri": "https://localhost:8080/",
          "height": 141
        },
        "id": "pG55DUkXaVs7",
        "outputId": "62bd79d4-6de6-4910-d524-d7767b8b7d54"
      },
      "execution_count": null,
      "outputs": [
        {
          "output_type": "error",
          "ename": "TypeError",
          "evalue": "add() takes 2 positional arguments but 3 were given",
          "traceback": [
            "\u001b[0;31m---------------------------------------------------------------------------\u001b[0m",
            "\u001b[0;31mTypeError\u001b[0m                                 Traceback (most recent call last)",
            "\u001b[0;32m<ipython-input-6-0e7399225a46>\u001b[0m in \u001b[0;36m<cell line: 0>\u001b[0;34m()\u001b[0m\n\u001b[0;32m----> 1\u001b[0;31m \u001b[0madd\u001b[0m\u001b[0;34m(\u001b[0m\u001b[0;36m10\u001b[0m\u001b[0;34m,\u001b[0m\u001b[0;36m10\u001b[0m\u001b[0;34m,\u001b[0m\u001b[0;36m20\u001b[0m\u001b[0;34m)\u001b[0m\u001b[0;34m\u001b[0m\u001b[0;34m\u001b[0m\u001b[0m\n\u001b[0m",
            "\u001b[0;31mTypeError\u001b[0m: add() takes 2 positional arguments but 3 were given"
          ]
        }
      ]
    },
    {
      "cell_type": "code",
      "source": [
        "## Varidic function(able to add more than given variables)\n",
        "\n",
        "def add2(*args):\n",
        "  s = 0\n",
        "  for i in args:\n",
        "    s = s+i\n",
        "  return s"
      ],
      "metadata": {
        "id": "vccytxeYao7O"
      },
      "execution_count": 61,
      "outputs": []
    },
    {
      "cell_type": "code",
      "source": [
        "s1=add2(10,32,43,10)\n",
        "s1"
      ],
      "metadata": {
        "colab": {
          "base_uri": "https://localhost:8080/"
        },
        "id": "X5Mj4Dkea7E5",
        "outputId": "a87f298b-3b09-4ee6-d7bc-1cc31e8b0acc"
      },
      "execution_count": 27,
      "outputs": [
        {
          "output_type": "execute_result",
          "data": {
            "text/plain": [
              "95"
            ]
          },
          "metadata": {},
          "execution_count": 27
        }
      ]
    },
    {
      "cell_type": "markdown",
      "source": [],
      "metadata": {
        "id": "hodeceUda1Uu"
      }
    },
    {
      "cell_type": "code",
      "source": [
        "def multiply(x,*args):\n",
        "    \"\"\"\n",
        "    Inputs: X and multiple arguments\n",
        "    Output: Returns a welcome statement along with product of given arguments\n",
        "    \"\"\"\n",
        "    welcome = f\"Welcome {x}\"\n",
        "    p = 1\n",
        "    for i in args:\n",
        "        p = i*p\n",
        "    return f\"{welcome}. Product of given data is {p}\"\n",
        "    #return f\"welcome {x}.Product of given data is {p}\"."
      ],
      "metadata": {
        "id": "Lc2oIuwhdAF3"
      },
      "execution_count": 35,
      "outputs": []
    },
    {
      "cell_type": "code",
      "source": [
        "m1 = multiply(\"raman\",89,39,38)"
      ],
      "metadata": {
        "id": "5TGpVIUzdH4u"
      },
      "execution_count": 36,
      "outputs": []
    },
    {
      "cell_type": "code",
      "source": [
        "\n",
        "m1"
      ],
      "metadata": {
        "colab": {
          "base_uri": "https://localhost:8080/",
          "height": 36
        },
        "id": "e6p6zsqedZOq",
        "outputId": "0f885d83-fe85-4e7a-88ce-340c567618a8"
      },
      "execution_count": 37,
      "outputs": [
        {
          "output_type": "execute_result",
          "data": {
            "text/plain": [
              "'Welcome raman. Product of given data is 131898'"
            ],
            "application/vnd.google.colaboratory.intrinsic+json": {
              "type": "string"
            }
          },
          "metadata": {},
          "execution_count": 37
        }
      ]
    },
    {
      "cell_type": "markdown",
      "source": [
        "\n",
        "I have employee data with me. Emp ids and empnames are stored in lists.I want to update their department details , let's assume IT department."
      ],
      "metadata": {
        "id": "udhsU_vEkfGI"
      }
    },
    {
      "cell_type": "code",
      "source": [
        "\n",
        "employee1 = [101,\"Raman\"]\n",
        "employee2 = [102,\"Thaman\"]\n",
        "employee3 = [103,\"Suman\"]"
      ],
      "metadata": {
        "id": "tlB1ho_vdaW5"
      },
      "execution_count": 38,
      "outputs": []
    },
    {
      "cell_type": "code",
      "source": [
        "def add_dept(*args):\n",
        "    for i in args:\n",
        "        i.append(\"IT\")"
      ],
      "metadata": {
        "id": "RcGYql04kquY"
      },
      "execution_count": 39,
      "outputs": []
    },
    {
      "cell_type": "code",
      "source": [
        "add_dept(employee1,employee2,employee3)\n"
      ],
      "metadata": {
        "id": "3IQ9cgsskz1x"
      },
      "execution_count": 41,
      "outputs": []
    },
    {
      "cell_type": "code",
      "source": [
        "employee1"
      ],
      "metadata": {
        "colab": {
          "base_uri": "https://localhost:8080/"
        },
        "id": "BAFECfMHk_HD",
        "outputId": "5a44c380-4d7e-4234-e0cc-65156d6d91c7"
      },
      "execution_count": 42,
      "outputs": [
        {
          "output_type": "execute_result",
          "data": {
            "text/plain": [
              "[101, 'Raman', 'IT', 'IT']"
            ]
          },
          "metadata": {},
          "execution_count": 42
        }
      ]
    },
    {
      "cell_type": "code",
      "source": [
        "employee2"
      ],
      "metadata": {
        "colab": {
          "base_uri": "https://localhost:8080/"
        },
        "id": "zxBLszWilAUr",
        "outputId": "33894c23-c91d-4883-f275-745689faf059"
      },
      "execution_count": 43,
      "outputs": [
        {
          "output_type": "execute_result",
          "data": {
            "text/plain": [
              "[102, 'Thaman', 'IT', 'IT']"
            ]
          },
          "metadata": {},
          "execution_count": 43
        }
      ]
    },
    {
      "cell_type": "code",
      "source": [
        "employee3"
      ],
      "metadata": {
        "colab": {
          "base_uri": "https://localhost:8080/"
        },
        "id": "g_vDFebLlB63",
        "outputId": "01805cec-9e61-47d5-844b-30f991413e32"
      },
      "execution_count": 45,
      "outputs": [
        {
          "output_type": "execute_result",
          "data": {
            "text/plain": [
              "[103, 'Suman', 'IT', 'IT']"
            ]
          },
          "metadata": {},
          "execution_count": 45
        }
      ]
    },
    {
      "cell_type": "markdown",
      "source": [
        "Keyword arguments **kwargs"
      ],
      "metadata": {
        "id": "YETA2DFvlLNG"
      }
    },
    {
      "cell_type": "code",
      "source": [
        "add(10,20)"
      ],
      "metadata": {
        "colab": {
          "base_uri": "https://localhost:8080/"
        },
        "id": "oKxHClbvlD4X",
        "outputId": "a9b4e5cb-49b2-413b-8388-2906c9b532c8"
      },
      "execution_count": 46,
      "outputs": [
        {
          "output_type": "execute_result",
          "data": {
            "text/plain": [
              "30"
            ]
          },
          "metadata": {},
          "execution_count": 46
        }
      ]
    },
    {
      "cell_type": "code",
      "source": [
        "add(x=69,y=69)"
      ],
      "metadata": {
        "colab": {
          "base_uri": "https://localhost:8080/"
        },
        "id": "e7nlhpKylQXE",
        "outputId": "41b2f727-2a73-4fb8-f509-2e417b609fb2"
      },
      "execution_count": 47,
      "outputs": [
        {
          "output_type": "execute_result",
          "data": {
            "text/plain": [
              "138"
            ]
          },
          "metadata": {},
          "execution_count": 47
        }
      ]
    },
    {
      "cell_type": "code",
      "source": [
        "## kwargs stands for \"keyword arguments\".\n",
        "## The ** in front of kwargs means:\n",
        "## “Accept any number of keyword arguments as a dictionary.”\n",
        "\n",
        "def func(**kwargs):\n",
        "    print(type(kwargs))\n",
        "    print(kwargs.items())"
      ],
      "metadata": {
        "id": "dJHN1NDTlVTL"
      },
      "execution_count": 48,
      "outputs": []
    },
    {
      "cell_type": "code",
      "source": [
        "func(id=101,dept=\"hr\")"
      ],
      "metadata": {
        "colab": {
          "base_uri": "https://localhost:8080/"
        },
        "id": "SB2HrZTllzMS",
        "outputId": "3644b4a3-365d-413b-de43-3d711b54ffc7"
      },
      "execution_count": 49,
      "outputs": [
        {
          "output_type": "stream",
          "name": "stdout",
          "text": [
            "<class 'dict'>\n",
            "dict_items([('id', 101), ('dept', 'hr')])\n"
          ]
        }
      ]
    },
    {
      "cell_type": "code",
      "source": [
        "def func2(**kwargs):\n",
        "    print(kwargs.keys())\n",
        "    print(kwargs.values())"
      ],
      "metadata": {
        "id": "lplrI222l8HD"
      },
      "execution_count": 50,
      "outputs": []
    },
    {
      "cell_type": "code",
      "source": [
        "func2(ids=[101,201,301],depts=(\"hr\",\"sales\",\"marketing\"))\n"
      ],
      "metadata": {
        "colab": {
          "base_uri": "https://localhost:8080/"
        },
        "id": "reJ-fDkWmY4B",
        "outputId": "c3fb38a5-7a44-4434-86c8-be75fc96a441"
      },
      "execution_count": 51,
      "outputs": [
        {
          "output_type": "stream",
          "name": "stdout",
          "text": [
            "dict_keys(['ids', 'depts'])\n",
            "dict_values([[101, 201, 301], ('hr', 'sales', 'marketing')])\n"
          ]
        }
      ]
    },
    {
      "cell_type": "code",
      "source": [],
      "metadata": {
        "id": "E3Y5dYV3mbmq"
      },
      "execution_count": null,
      "outputs": []
    },
    {
      "cell_type": "markdown",
      "source": [
        "Write a function that returns the length of input items passed to it"
      ],
      "metadata": {
        "id": "FgFgVIN1m1ud"
      }
    },
    {
      "cell_type": "code",
      "source": [
        "employee1 = [101,\"Raman\",\"it\"]\n",
        "employee2 = [102,\"Thaman\",6000,\"HR\"]\n",
        "employee3 = [103,\"Suman\"]"
      ],
      "metadata": {
        "id": "IplwJe8unnoF"
      },
      "execution_count": 58,
      "outputs": []
    },
    {
      "cell_type": "code",
      "source": [
        "def len_data(**kwargs):\n",
        "    dct = {}\n",
        "    for key,data in kwargs.items():\n",
        "        dct[key] = len(data)\n",
        "        # dct[emp1]=len(employee1)\n",
        "        # dct[emp2]=len(employee2)\n",
        "        # dct[emp3] = len(employee3)\n",
        "    return dct\n",
        "    # dct.items() : ((emp1,3),(emp2,4),(emp3,5))"
      ],
      "metadata": {
        "id": "BAZ227-onU-a"
      },
      "execution_count": 59,
      "outputs": []
    },
    {
      "cell_type": "code",
      "source": [
        "len_data(emp1=employee1,emp2=employee2,emp3=employee3)"
      ],
      "metadata": {
        "colab": {
          "base_uri": "https://localhost:8080/"
        },
        "id": "WtnSLsyuoaH5",
        "outputId": "c7106801-fd70-4088-dd2d-50654e8d2650"
      },
      "execution_count": 60,
      "outputs": [
        {
          "output_type": "execute_result",
          "data": {
            "text/plain": [
              "{'emp1': 3, 'emp2': 4, 'emp3': 2}"
            ]
          },
          "metadata": {},
          "execution_count": 60
        }
      ]
    },
    {
      "cell_type": "code",
      "source": [],
      "metadata": {
        "id": "yfkGojM_oeeH"
      },
      "execution_count": null,
      "outputs": []
    }
  ]
}